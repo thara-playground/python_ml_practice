{
 "cells": [
  {
   "cell_type": "code",
   "execution_count": 22,
   "metadata": {
    "collapsed": true
   },
   "outputs": [],
   "source": [
    "%matplotlib inline"
   ]
  },
  {
   "cell_type": "code",
   "execution_count": 23,
   "metadata": {
    "collapsed": false
   },
   "outputs": [
    {
     "name": "stdout",
     "output_type": "stream",
     "text": [
      "<class 'pandas.core.frame.DataFrame'>\n",
      "RangeIndex: 150 entries, 0 to 149\n",
      "Data columns (total 5 columns):\n",
      "SepalLength    150 non-null float64\n",
      "SepalWidth     150 non-null float64\n",
      "PetalLength    150 non-null float64\n",
      "PetalWidth     150 non-null float64\n",
      "Name           150 non-null object\n",
      "dtypes: float64(4), object(1)\n",
      "memory usage: 5.9+ KB\n"
     ]
    }
   ],
   "source": [
    "import pandas as pd\n",
    "iris = pd.read_csv(\"iris.data\")\n",
    "iris.info()"
   ]
  },
  {
   "cell_type": "code",
   "execution_count": 24,
   "metadata": {
    "collapsed": true
   },
   "outputs": [],
   "source": [
    "setosa = iris[iris[\"Name\"] == \"Iris-setosa\"]\n",
    "versicolor = iris[iris[\"Name\"] == \"Iris-versicolor\"]\n",
    "virginica = iris[iris[\"Name\"] == \"Iris-virginica\"]"
   ]
  },
  {
   "cell_type": "code",
   "execution_count": 25,
   "metadata": {
    "collapsed": false
   },
   "outputs": [
    {
     "data": {
      "text/html": [
       "<div>\n",
       "<table border=\"1\" class=\"dataframe\">\n",
       "  <thead>\n",
       "    <tr style=\"text-align: right;\">\n",
       "      <th></th>\n",
       "      <th>SepalLength</th>\n",
       "      <th>SepalWidth</th>\n",
       "      <th>PetalLength</th>\n",
       "      <th>PetalWidth</th>\n",
       "    </tr>\n",
       "  </thead>\n",
       "  <tbody>\n",
       "    <tr>\n",
       "      <th>SepalLength</th>\n",
       "      <td>0.124249</td>\n",
       "      <td>0.100298</td>\n",
       "      <td>0.016139</td>\n",
       "      <td>0.010547</td>\n",
       "    </tr>\n",
       "    <tr>\n",
       "      <th>SepalWidth</th>\n",
       "      <td>0.100298</td>\n",
       "      <td>0.145180</td>\n",
       "      <td>0.011682</td>\n",
       "      <td>0.011437</td>\n",
       "    </tr>\n",
       "    <tr>\n",
       "      <th>PetalLength</th>\n",
       "      <td>0.016139</td>\n",
       "      <td>0.011682</td>\n",
       "      <td>0.030106</td>\n",
       "      <td>0.005698</td>\n",
       "    </tr>\n",
       "    <tr>\n",
       "      <th>PetalWidth</th>\n",
       "      <td>0.010547</td>\n",
       "      <td>0.011437</td>\n",
       "      <td>0.005698</td>\n",
       "      <td>0.011494</td>\n",
       "    </tr>\n",
       "  </tbody>\n",
       "</table>\n",
       "</div>"
      ],
      "text/plain": [
       "             SepalLength  SepalWidth  PetalLength  PetalWidth\n",
       "SepalLength     0.124249    0.100298     0.016139    0.010547\n",
       "SepalWidth      0.100298    0.145180     0.011682    0.011437\n",
       "PetalLength     0.016139    0.011682     0.030106    0.005698\n",
       "PetalWidth      0.010547    0.011437     0.005698    0.011494"
      ]
     },
     "execution_count": 25,
     "metadata": {},
     "output_type": "execute_result"
    }
   ],
   "source": [
    "setosa.sum()  # 合計 \n",
    "setosa.mean()  # 平均\n",
    "setosa.median()  # 中央値\n",
    "setosa.min()  # 最小値\n",
    "setosa.max()  # 最大値\n",
    "setosa.corr()  # 相関係数\n",
    "setosa.var()  # 分散\n",
    "setosa.std()  # 標準偏差\n",
    "setosa.cov()  # 共分散"
   ]
  },
  {
   "cell_type": "code",
   "execution_count": 26,
   "metadata": {
    "collapsed": false
   },
   "outputs": [],
   "source": [
    "import numpy as np\n",
    "import scipy as sp\n",
    "import matplotlib.pyplot as plt\n",
    "import sklearn\n",
    "import pyper"
   ]
  },
  {
   "cell_type": "code",
   "execution_count": 27,
   "metadata": {
    "collapsed": false
   },
   "outputs": [
    {
     "data": {
      "image/png": "[encoded data removed]",
      "text/plain": [
       "<matplotlib.figure.Figure at 0x107d2a9e8>"
      ]
     },
     "metadata": {},
     "output_type": "display_data"
    }
   ],
   "source": [
    "# SepalLengthのヒストグラム\n",
    "plt.figure()\n",
    "plt.hist(iris[\"SepalLength\"])\n",
    "plt.xlabel(\"SepalLength\")\n",
    "plt.ylabel(\"Freq\")\n",
    "plt.show()"
   ]
  },
  {
   "cell_type": "code",
   "execution_count": 28,
   "metadata": {
    "collapsed": false
   },
   "outputs": [
    {
     "data": {
      "image/png": "[encoded data removed]",
      "text/plain": [
       "<matplotlib.figure.Figure at 0x107ea9780>"
      ]
     },
     "metadata": {},
     "output_type": "display_data"
    }
   ],
   "source": [
    "# setosaについてSepalLengthのヒストグラム\n",
    "plt.figure()\n",
    "plt.hist(setosa[\"SepalLength\"])\n",
    "plt.xlabel(\"SepalLength\")\n",
    "plt.ylabel(\"Freq\")\n",
    "plt.show()"
   ]
  },
  {
   "cell_type": "code",
   "execution_count": 29,
   "metadata": {
    "collapsed": false
   },
   "outputs": [
    {
     "data": {
      "image/png": "[encoded data removed]",
      "text/plain": [
       "<matplotlib.figure.Figure at 0x1071f8080>"
      ]
     },
     "metadata": {},
     "output_type": "display_data"
    }
   ],
   "source": [
    "# 品種ごとのSepalLengthについての箱ひげ図\n",
    "data = [setosa[\"SepalLength\"], versicolor[\"SepalLength\"], virginica[\"SepalLength\"]]\n",
    "plt.figure()\n",
    "plt.boxplot(data, sym=\"k.\")\n",
    "plt.xlabel(\"Name\")\n",
    "plt.ylabel(\"SepalLength\")\n",
    "ax = plt.gca()\n",
    "plt.setp(ax, xticklabels=[\"setosa\", \"versicolor\", \"virginica\"])\n",
    "plt.show()"
   ]
  },
  {
   "cell_type": "code",
   "execution_count": 30,
   "metadata": {
    "collapsed": false
   },
   "outputs": [
    {
     "data": {
      "image/png": "[encoded data removed]",
      "text/plain": [
       "<matplotlib.figure.Figure at 0x107f2c8d0>"
      ]
     },
     "metadata": {},
     "output_type": "display_data"
    }
   ],
   "source": [
    "# 二変量の散布図\n",
    "plt.scatter(setosa[\"SepalLength\"], setosa[\"SepalWidth\"])\n",
    "plt.xlabel(\"SepalLength\")\n",
    "plt.ylabel(\"SepalWidth\")\n",
    "plt.show()"
   ]
  },
  {
   "cell_type": "code",
   "execution_count": 31,
   "metadata": {
    "collapsed": false
   },
   "outputs": [
    {
     "name": "stdout",
     "output_type": "stream",
     "text": [
      "0.746780373264\n"
     ]
    }
   ],
   "source": [
    "# 正の相関があるように見えるので、相関係数を求める\n",
    "corr = np.corrcoef(setosa[\"SepalLength\"], setosa[\"SepalWidth\"])\n",
    "print(corr[0,1])"
   ]
  },
  {
   "cell_type": "code",
   "execution_count": 32,
   "metadata": {
    "collapsed": false,
    "scrolled": true
   },
   "outputs": [
    {
     "data": {
      "image/png": "[encoded data removed]",
      "text/plain": [
       "<matplotlib.figure.Figure at 0x107fcd128>"
      ]
     },
     "metadata": {},
     "output_type": "display_data"
    },
    {
     "name": "stdout",
     "output_type": "stream",
     "text": [
      "[[ 0.80723367]]\n",
      "[-0.62301173]\n",
      "0.557680925892\n"
     ]
    }
   ],
   "source": [
    "# 単回帰分析\n",
    "from sklearn import linear_model\n",
    "LinerRegr = linear_model.LinearRegression()\n",
    "X = setosa[[\"SepalLength\"]]\n",
    "Y = setosa[[\"SepalWidth\"]]\n",
    "LinerRegr.fit(X, Y)\n",
    "plt.scatter(X,Y,color=\"black\")\n",
    "px = np.arange(X.min(), X.max(), .01)[:,np.newaxis]\n",
    "py = LinerRegr.predict(px)\n",
    "plt.plot(px, py, color=\"blue\", linewidth=3)\n",
    "plt.xlabel(\"SepalLength\")\n",
    "plt.ylabel(\"SepalWidth\")\n",
    "plt.show()\n",
    "print(LinerRegr.coef_)  # 回帰係数\n",
    "print(LinerRegr.intercept_)  # 切片\n",
    "print(LinerRegr.score(X, Y))  # 決定係数"
   ]
  },
  {
   "cell_type": "code",
   "execution_count": 33,
   "metadata": {
    "collapsed": false
   },
   "outputs": [
    {
     "name": "stdout",
     "output_type": "stream",
     "text": [
      "0.557680925892\n"
     ]
    }
   ],
   "source": [
    "# 重回帰分析\n",
    "from sklearn import linear_model\n",
    "LinerRegr = linear_model.LinearRegression()\n",
    "X = setosa[[\"SepalLength\"]]\n",
    "Y = setosa[[\"SepalWidth\"]]\n",
    "LinerRegr.fit(X, Y)\n",
    "print(LinerRegr.score(X,Y))  # 決定係数"
   ]
  },
  {
   "cell_type": "code",
   "execution_count": 34,
   "metadata": {
    "collapsed": false
   },
   "outputs": [
    {
     "name": "stdout",
     "output_type": "stream",
     "text": [
      "try({summary(rlm)})\n",
      "\n",
      "Call:\n",
      "lm(formula = Sepal.Width ~ Sepal.Length + Petal.Length + Petal.Width, \n",
      "    data = iris)\n",
      "\n",
      "Residuals:\n",
      "     Min       1Q   Median       3Q      Max \n",
      "-0.88045 -0.20945  0.01426  0.17942  0.78125 \n",
      "\n",
      "Coefficients:\n",
      "             Estimate Std. Error t value Pr(>|t|)    \n",
      "(Intercept)   1.04309    0.27058   3.855 0.000173 ***\n",
      "Sepal.Length  0.60707    0.06217   9.765  < 2e-16 ***\n",
      "Petal.Length -0.58603    0.06214  -9.431  < 2e-16 ***\n",
      "Petal.Width   0.55803    0.12256   4.553  1.1e-05 ***\n",
      "---\n",
      "Signif. codes:  0 ‘***’ 0.001 ‘**’ 0.01 ‘*’ 0.05 ‘.’ 0.1 ‘ ’ 1\n",
      "\n",
      "Residual standard error: 0.3038 on 146 degrees of freedom\n",
      "Multiple R-squared:  0.524,\tAdjusted R-squared:  0.5142 \n",
      "F-statistic: 53.58 on 3 and 146 DF,  p-value: < 2.2e-16\n",
      "\n",
      "\n"
     ]
    }
   ],
   "source": [
    "import pyper\n",
    "r = pyper.R(use_pandas='True')\n",
    "r.assign('data', iris)\n",
    "r('rlm <- lm(Sepal.Width ~ Sepal.Length + Petal.Length + Petal.Width, data=iris)')\n",
    "print(r('summary(rlm)'))"
   ]
  },
  {
   "cell_type": "code",
   "execution_count": 35,
   "metadata": {
    "collapsed": false
   },
   "outputs": [],
   "source": [
    "# ダミー変数を作る\n",
    "dummies = pd.get_dummies(iris[\"Name\"])\n",
    "iris = pd.concat([iris,dummies], axis=1)"
   ]
  },
  {
   "cell_type": "markdown",
   "metadata": {},
   "source": [
    "データマイニングの流れ\n",
    "1. 何を知りたいのか決める\n",
    "2. 変数の種類と何を表しているのかを知る\n",
    "3. 一変量の解析を行う。平均値などを算出し、ヒストグラムや箱ひげ図を描画する\n",
    "4. 二変量の解析を行う。相関係数を算出し、散布図などのグラフを描画して、データへの理解を深める\n",
    "5. 説明変数を少なめにして、解釈のし易いモデルに当てはめる\n",
    "6. 推定された結果を2〜4に振り返って確認をしたり、モデルの検証を行う"
   ]
  },
  {
   "cell_type": "markdown",
   "metadata": {},
   "source": [
    "## 分類モデルを構築する"
   ]
  },
  {
   "cell_type": "code",
   "execution_count": 48,
   "metadata": {
    "collapsed": false
   },
   "outputs": [
    {
     "name": "stdout",
     "output_type": "stream",
     "text": [
      "[[-2.15056433  3.53948104]]\n",
      "[ 0.94024115]\n",
      "col_0         0   1\n",
      "Iris-setosa        \n",
      "0            50   0\n",
      "1             1  49\n"
     ]
    }
   ],
   "source": [
    "# ロジスティック回帰モデル\n",
    "usedata = np.logical_or(iris[\"Name\"] == \"Iris-setosa\", iris[\"Name\"] == \"Iris-virginica\")\n",
    "setosa_virginica = iris[usedata]\n",
    "X = setosa_virginica[[\"SepalLength\", \"SepalWidth\"]]\n",
    "Y = setosa_virginica[\"Iris-setosa\"]\n",
    "LogRegr = sklearn.linear_model.LogisticRegression(C=1.0)\n",
    "LogRegr.fit(X, Y)\n",
    "print(LogRegr.coef_)  # 偏回帰係数\n",
    "print(LogRegr.intercept_)  # 切片\n",
    "print(pd.crosstab(Y, LogRegr.predict(X)))  # 予測結果"
   ]
  },
  {
   "cell_type": "code",
   "execution_count": 50,
   "metadata": {
    "collapsed": false
   },
   "outputs": [
    {
     "data": {
      "text/plain": [
       "<matplotlib.collections.PathCollection at 0x1092c8ef0>"
      ]
     },
     "execution_count": 50,
     "metadata": {},
     "output_type": "execute_result"
    },
    {
     "data": {
      "image/png": "[encoded data removed]",
      "text/plain": [
       "<matplotlib.figure.Figure at 0x10a424eb8>"
      ]
     },
     "metadata": {},
     "output_type": "display_data"
    }
   ],
   "source": [
    "# 結果をグラフにして確認をする\n",
    "xMin = X[\"SepalLength\"].min()\n",
    "xMax = X[\"SepalLength\"].max()\n",
    "yMin = X[\"SepalWidth\"].min()\n",
    "yMax = X[\"SepalWidth\"].max()\n",
    "xx, yy = np.meshgrid(np.arange(xMin, xMax, 0.01), np.arange(yMin, yMax, 0.01))\n",
    "Z = LogRegr.predict(np.c_[xx.ravel(), yy.ravel()])\n",
    "Z = Z.reshape(xx.shape)\n",
    "plt.figure()\n",
    "plt.xlim(xx.min(), xx.max())\n",
    "plt.ylim(yy.min(), yy.max())\n",
    "plt.xlabel('Sepal Length')\n",
    "plt.ylabel('Sepal Width')\n",
    "plt.pcolormesh(xx, yy, Z, cmap=plt.cm.Paired)\n",
    "plt.scatter(X[\"SepalLength\"].ix[Y.values==0], X[\"SepalWidth\"].ix[Y.values==0], marker=\"o\", c=\"black\")\n",
    "plt.scatter(X[\"SepalLength\"].ix[Y.values==1], X[\"SepalWidth\"].ix[Y.values==1], marker=\"+\", c=\"black\")"
   ]
  },
  {
   "cell_type": "code",
   "execution_count": 53,
   "metadata": {
    "collapsed": false
   },
   "outputs": [],
   "source": [
    "# 決定木の構築\n",
    "from sklearn import tree\n",
    "X = iris[[\"SepalLength\", \"SepalWidth\", \"PetalLength\", \"PetalWidth\"]]\n",
    "Y = iris[[\"Name\"]]\n",
    "treeClf = tree.DecisionTreeClassifier(max_depth=2)\n",
    "treeClf.fit(X, Y)\n",
    "\n",
    "from sklearn.externals.six import StringIO\n",
    "with open(\"tree.dot\", 'w') as f:\n",
    "    f = tree.export_graphviz(treeClf, out_file=f, feature_names=[\"SepalLength\", \"SepalWidth\", \"PetalLength\", \"PetalWidth\"])"
   ]
  },
  {
   "cell_type": "code",
   "execution_count": 55,
   "metadata": {
    "collapsed": false
   },
   "outputs": [
    {
     "name": "stdout",
     "output_type": "stream",
     "text": [
      "[0 0 0 0 0 0 0 0 0 0 0 0 0 0 0 0 0 0 0 0 0 0 0 0 0 0 0 0 0 0 0 0 0 0 0 0 0\n",
      " 0 0 0 0 0 0 0 0 0 0 0 0 0 1 1 1 2 1 2 1 2 1 2 2 2 2 2 2 1 2 2 2 2 2 2 2 2\n",
      " 1 1 1 1 2 2 2 2 2 2 2 2 1 2 2 2 2 2 2 2 2 2 2 2 2 2 1 2 1 1 1 1 2 1 1 1 1\n",
      " 1 1 2 2 1 1 1 1 2 1 2 1 2 1 1 2 2 1 1 1 1 1 2 2 1 1 1 2 1 1 1 2 1 1 1 2 1\n",
      " 1 2]\n"
     ]
    }
   ],
   "source": [
    "# k-means法\n",
    "from sklearn import cluster\n",
    "X = iris[[\"SepalLength\", \"SepalWidth\"]]\n",
    "kmeansCls = cluster.KMeans(n_clusters=3, random_state=71)\n",
    "kmeansCls.fit(X)\n",
    "print(kmeansCls.predict(X))"
   ]
  },
  {
   "cell_type": "code",
   "execution_count": 56,
   "metadata": {
    "collapsed": false
   },
   "outputs": [
    {
     "data": {
      "text/plain": [
       "<matplotlib.collections.PathCollection at 0x1071f1f60>"
      ]
     },
     "execution_count": 56,
     "metadata": {},
     "output_type": "execute_result"
    },
    {
     "data": {
      "image/png": "[encoded data removed]",
      "text/plain": [
       "<matplotlib.figure.Figure at 0x109af9048>"
      ]
     },
     "metadata": {},
     "output_type": "display_data"
    }
   ],
   "source": [
    "# k-means法の可視化\n",
    "def category2int(x):\n",
    "    category = {\"Iris-setosa\": 0, \"Iris-versicolor\": 1, \"Iris-virginica\": 2}\n",
    "    return category[x]\n",
    "\n",
    "f = category2int\n",
    "Y = iris[\"Name\"].map(f)\n",
    "xMin = X[\"SepalLength\"].min()\n",
    "xMax = X[\"SepalLength\"].max()\n",
    "yMin = X[\"SepalWidth\"].min()\n",
    "yMax = X[\"SepalWidth\"].max()\n",
    "\n",
    "xx,yy = np.meshgrid(np.arange(xMin, xMax, 0.01), np.arange(yMin, yMax, 0.01))\n",
    "Z = kmeansCls.predict(np.c_[xx.ravel(), yy.ravel()])\n",
    "Z = Z.reshape(xx.shape)\n",
    "plt.figure()\n",
    "plt.xlim(xx.min(), xx.max())\n",
    "plt.ylim(yy.min(), yy.max())\n",
    "plt.xlabel('Sepal Length')\n",
    "plt.ylabel('Sepal Width')\n",
    "plt.pcolormesh(xx, yy, Z, cmap=plt.cm.Paired)\n",
    "plt.scatter(X[\"SepalLength\"].ix[Y.values == 0], X[\"SepalWidth\"].ix[Y.values == 0], marker=\"o\", c=\"black\")\n",
    "plt.scatter(X[\"SepalLength\"].ix[Y.values == 1], X[\"SepalWidth\"].ix[Y.values == 1], marker=\"s\", c=\"black\")\n",
    "plt.scatter(X[\"SepalLength\"].ix[Y.values == 2], X[\"SepalWidth\"].ix[Y.values == 2], marker=\"+\", c=\"black\")"
   ]
  }
 ],
 "metadata": {
  "kernelspec": {
   "display_name": "Python 3",
   "language": "python",
   "name": "python3"
  },
  "language_info": {
   "codemirror_mode": {
    "name": "ipython",
    "version": 3
   },
   "file_extension": ".py",
   "mimetype": "text/x-python",
   "name": "python",
   "nbconvert_exporter": "python",
   "pygments_lexer": "ipython3",
   "version": "3.6.0"
  }
 },
 "nbformat": 4,
 "nbformat_minor": 2
}
