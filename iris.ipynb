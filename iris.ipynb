{
 "cells": [
  {
   "cell_type": "code",
   "execution_count": null,
   "metadata": {
    "collapsed": true
   },
   "outputs": [],
   "source": [
    "%matplotlib inline"
   ]
  },
  {
   "cell_type": "code",
   "execution_count": 3,
   "metadata": {
    "collapsed": false
   },
   "outputs": [
    {
     "name": "stdout",
     "output_type": "stream",
     "text": [
      "<class 'pandas.core.frame.DataFrame'>\n",
      "RangeIndex: 150 entries, 0 to 149\n",
      "Data columns (total 5 columns):\n",
      "SepalLength    150 non-null float64\n",
      "SepalWidth     150 non-null float64\n",
      "PetalLength    150 non-null float64\n",
      "PetalWidth     150 non-null float64\n",
      "Name           150 non-null object\n",
      "dtypes: float64(4), object(1)\n",
      "memory usage: 5.9+ KB\n"
     ]
    }
   ],
   "source": [
    "import pandas as pd\n",
    "iris = pd.read_csv(\"iris.data\")\n",
    "iris.info()"
   ]
  },
  {
   "cell_type": "code",
   "execution_count": 4,
   "metadata": {
    "collapsed": true
   },
   "outputs": [],
   "source": [
    "setosa = iris[iris[\"Name\"] == \"Iris-setosa\"]\n",
    "versicolor = iris[iris[\"Name\"] == \"Iris-versicolor\"]\n",
    "virginica = iris[iris[\"Name\"] == \"Iris-virginica\"]"
   ]
  },
  {
   "cell_type": "code",
   "execution_count": 32,
   "metadata": {
    "collapsed": false
   },
   "outputs": [
    {
     "data": {
      "text/html": [
       "<div>\n",
       "<table border=\"1\" class=\"dataframe\">\n",
       "  <thead>\n",
       "    <tr style=\"text-align: right;\">\n",
       "      <th></th>\n",
       "      <th>SepalLength</th>\n",
       "      <th>SepalWidth</th>\n",
       "      <th>PetalLength</th>\n",
       "      <th>PetalWidth</th>\n",
       "    </tr>\n",
       "  </thead>\n",
       "  <tbody>\n",
       "    <tr>\n",
       "      <th>SepalLength</th>\n",
       "      <td>0.124249</td>\n",
       "      <td>0.100298</td>\n",
       "      <td>0.016139</td>\n",
       "      <td>0.010547</td>\n",
       "    </tr>\n",
       "    <tr>\n",
       "      <th>SepalWidth</th>\n",
       "      <td>0.100298</td>\n",
       "      <td>0.145180</td>\n",
       "      <td>0.011682</td>\n",
       "      <td>0.011437</td>\n",
       "    </tr>\n",
       "    <tr>\n",
       "      <th>PetalLength</th>\n",
       "      <td>0.016139</td>\n",
       "      <td>0.011682</td>\n",
       "      <td>0.030106</td>\n",
       "      <td>0.005698</td>\n",
       "    </tr>\n",
       "    <tr>\n",
       "      <th>PetalWidth</th>\n",
       "      <td>0.010547</td>\n",
       "      <td>0.011437</td>\n",
       "      <td>0.005698</td>\n",
       "      <td>0.011494</td>\n",
       "    </tr>\n",
       "  </tbody>\n",
       "</table>\n",
       "</div>"
      ],
      "text/plain": [
       "             SepalLength  SepalWidth  PetalLength  PetalWidth\n",
       "SepalLength     0.124249    0.100298     0.016139    0.010547\n",
       "SepalWidth      0.100298    0.145180     0.011682    0.011437\n",
       "PetalLength     0.016139    0.011682     0.030106    0.005698\n",
       "PetalWidth      0.010547    0.011437     0.005698    0.011494"
      ]
     },
     "execution_count": 32,
     "metadata": {},
     "output_type": "execute_result"
    }
   ],
   "source": [
    "setosa.sum()  # 合計 \n",
    "setosa.mean()  # 平均\n",
    "setosa.median()  # 中央値\n",
    "setosa.min()  # 最小値\n",
    "setosa.max()  # 最大値\n",
    "setosa.corr()  # 相関係数\n",
    "setosa.var()  # 分散\n",
    "setosa.std()  # 標準偏差\n",
    "setosa.cov()  # 共分散"
   ]
  },
  {
   "cell_type": "code",
   "execution_count": 6,
   "metadata": {
    "collapsed": false
   },
   "outputs": [],
   "source": [
    "import numpy as np\n",
    "import scipy as sp\n",
    "import matplotlib.pyplot as plt\n",
    "import sklearn\n",
    "import pyper"
   ]
  },
  {
   "cell_type": "code",
   "execution_count": 11,
   "metadata": {
    "collapsed": false
   },
   "outputs": [
    {
     "data": {
      "image/png": "[encoded data removed]",
      "text/plain": [
       "<matplotlib.figure.Figure at 0x1134b1908>"
      ]
     },
     "metadata": {},
     "output_type": "display_data"
    }
   ],
   "source": [
    "# SepalLengthのヒストグラム\n",
    "plt.figure()\n",
    "plt.hist(iris[\"SepalLength\"])\n",
    "plt.xlabel(\"SepalLength\")\n",
    "plt.ylabel(\"Freq\")\n",
    "plt.show()"
   ]
  },
  {
   "cell_type": "code",
   "execution_count": 12,
   "metadata": {
    "collapsed": false
   },
   "outputs": [
    {
     "data": {
      "image/png": "[encoded data removed]",
      "text/plain": [
       "<matplotlib.figure.Figure at 0x1135cde80>"
      ]
     },
     "metadata": {},
     "output_type": "display_data"
    }
   ],
   "source": [
    "# setosaについてSepalLengthのヒストグラム\n",
    "plt.figure()\n",
    "plt.hist(setosa[\"SepalLength\"])\n",
    "plt.xlabel(\"SepalLength\")\n",
    "plt.ylabel(\"Freq\")\n",
    "plt.show()"
   ]
  },
  {
   "cell_type": "code",
   "execution_count": 14,
   "metadata": {
    "collapsed": false
   },
   "outputs": [
    {
     "data": {
      "image/png": "[encoded data removed]",
      "text/plain": [
       "<matplotlib.figure.Figure at 0x1133ca0f0>"
      ]
     },
     "metadata": {},
     "output_type": "display_data"
    }
   ],
   "source": [
    "# 品種ごとのSepalLengthについての箱ひげ図\n",
    "data = [setosa[\"SepalLength\"], versicolor[\"SepalLength\"], virginica[\"SepalLength\"]]\n",
    "plt.figure()\n",
    "plt.boxplot(data, sym=\"k.\")\n",
    "plt.xlabel(\"Name\")\n",
    "plt.ylabel(\"SepalLength\")\n",
    "ax = plt.gca()\n",
    "plt.setp(ax, xticklabels=[\"setosa\", \"versicolor\", \"virginica\"])\n",
    "plt.show()"
   ]
  },
  {
   "cell_type": "code",
   "execution_count": 15,
   "metadata": {
    "collapsed": false
   },
   "outputs": [
    {
     "data": {
      "image/png": "[encoded data removed]",
      "text/plain": [
       "<matplotlib.figure.Figure at 0x1135e1c18>"
      ]
     },
     "metadata": {},
     "output_type": "display_data"
    }
   ],
   "source": [
    "# 二変量の散布図\n",
    "plt.scatter(setosa[\"SepalLength\"], setosa[\"SepalWidth\"])\n",
    "plt.xlabel(\"SepalLength\")\n",
    "plt.ylabel(\"SepalWidth\")\n",
    "plt.show()"
   ]
  },
  {
   "cell_type": "code",
   "execution_count": 16,
   "metadata": {
    "collapsed": false
   },
   "outputs": [
    {
     "name": "stdout",
     "output_type": "stream",
     "text": [
      "0.746780373264\n"
     ]
    }
   ],
   "source": [
    "# 正の相関があるように見えるので、相関係数を求める\n",
    "corr = np.corrcoef(setosa[\"SepalLength\"], setosa[\"SepalWidth\"])\n",
    "print(corr[0,1])"
   ]
  },
  {
   "cell_type": "code",
   "execution_count": 24,
   "metadata": {
    "collapsed": false,
    "scrolled": true
   },
   "outputs": [
    {
     "data": {
      "image/png": "[encoded data removed]",
      "text/plain": [
       "<matplotlib.figure.Figure at 0x1136d3b38>"
      ]
     },
     "metadata": {},
     "output_type": "display_data"
    },
    {
     "name": "stdout",
     "output_type": "stream",
     "text": [
      "[[ 0.80723367]]\n",
      "[-0.62301173]\n",
      "0.557680925892\n"
     ]
    }
   ],
   "source": [
    "# 単回帰分析\n",
    "from sklearn import linear_model\n",
    "LinerRegr = linear_model.LinearRegression()\n",
    "X = setosa[[\"SepalLength\"]]\n",
    "Y = setosa[[\"SepalWidth\"]]\n",
    "LinerRegr.fit(X, Y)\n",
    "plt.scatter(X,Y,color=\"black\")\n",
    "px = np.arange(X.min(), X.max(), .01)[:,np.newaxis]\n",
    "py = LinerRegr.predict(px)\n",
    "plt.plot(px, py, color=\"blue\", linewidth=3)\n",
    "plt.xlabel(\"SepalLength\")\n",
    "plt.ylabel(\"SepalWidth\")\n",
    "plt.show()\n",
    "print(LinerRegr.coef_)  # 回帰係数\n",
    "print(LinerRegr.intercept_)  # 切片\n",
    "print(LinerRegr.score(X, Y))  # 決定係数"
   ]
  },
  {
   "cell_type": "code",
   "execution_count": 25,
   "metadata": {
    "collapsed": false
   },
   "outputs": [
    {
     "name": "stdout",
     "output_type": "stream",
     "text": [
      "0.557680925892\n"
     ]
    }
   ],
   "source": [
    "# 重回帰分析\n",
    "from sklearn import linear_model\n",
    "LinerRegr = linear_model.LinearRegression()\n",
    "X = setosa[[\"SepalLength\"]]\n",
    "Y = setosa[[\"SepalWidth\"]]\n",
    "LinerRegr.fit(X, Y)\n",
    "print(LinerRegr.score(X,Y))  # 決定係数"
   ]
  },
  {
   "cell_type": "code",
   "execution_count": 26,
   "metadata": {
    "collapsed": false
   },
   "outputs": [
    {
     "name": "stdout",
     "output_type": "stream",
     "text": [
      "try({summary(rlm)})\n",
      "\n",
      "Call:\n",
      "lm(formula = Sepal.Width ~ Sepal.Length + Petal.Length + Petal.Width, \n",
      "    data = iris)\n",
      "\n",
      "Residuals:\n",
      "     Min       1Q   Median       3Q      Max \n",
      "-0.88045 -0.20945  0.01426  0.17942  0.78125 \n",
      "\n",
      "Coefficients:\n",
      "             Estimate Std. Error t value Pr(>|t|)    \n",
      "(Intercept)   1.04309    0.27058   3.855 0.000173 ***\n",
      "Sepal.Length  0.60707    0.06217   9.765  < 2e-16 ***\n",
      "Petal.Length -0.58603    0.06214  -9.431  < 2e-16 ***\n",
      "Petal.Width   0.55803    0.12256   4.553  1.1e-05 ***\n",
      "---\n",
      "Signif. codes:  0 ‘***’ 0.001 ‘**’ 0.01 ‘*’ 0.05 ‘.’ 0.1 ‘ ’ 1\n",
      "\n",
      "Residual standard error: 0.3038 on 146 degrees of freedom\n",
      "Multiple R-squared:  0.524,\tAdjusted R-squared:  0.5142 \n",
      "F-statistic: 53.58 on 3 and 146 DF,  p-value: < 2.2e-16\n",
      "\n",
      "\n"
     ]
    }
   ],
   "source": [
    "import pyper\n",
    "r = pyper.R(use_pandas='True')\n",
    "r.assign('data', iris)\n",
    "r('rlm <- lm(Sepal.Width ~ Sepal.Length + Petal.Length + Petal.Width, data=iris)')\n",
    "print(r('summary(rlm)'))"
   ]
  },
  {
   "cell_type": "code",
   "execution_count": 28,
   "metadata": {
    "collapsed": false
   },
   "outputs": [],
   "source": [
    "# ダミー変数を作る\n",
    "dummies = pd.get_dummies(iris[\"Name\"])\n",
    "iris = pd.concat([iris,dummies], axis=1)"
   ]
  },
  {
   "cell_type": "code",
   "execution_count": 31,
   "metadata": {
    "collapsed": false
   },
   "outputs": [
    {
     "name": "stdout",
     "output_type": "stream",
     "text": [
      "[[ 1.582  0.93 ]]\n",
      "[ 5.006]\n"
     ]
    }
   ],
   "source": [
    "# 回帰係数と切片を求める\n",
    "LinerRegr = linear_model.LinearRegression()\n",
    "X = iris[[\"Iris-virginica\", \"Iris-versicolor\"]]\n",
    "Y = iris[[\"SepalLength\"]]\n",
    "LinerRegr.fit(X,Y)\n",
    "print(LinerRegr.coef_)  # 回帰係数\n",
    "print(LinerRegr.intercept_)  # 切片"
   ]
  }
 ],
 "metadata": {
  "kernelspec": {
   "display_name": "Python 3",
   "language": "python",
   "name": "python3"
  },
  "language_info": {
   "codemirror_mode": {
    "name": "ipython",
    "version": 3
   },
   "file_extension": ".py",
   "mimetype": "text/x-python",
   "name": "python",
   "nbconvert_exporter": "python",
   "pygments_lexer": "ipython3",
   "version": "3.6.0"
  }
 },
 "nbformat": 4,
 "nbformat_minor": 2
}
